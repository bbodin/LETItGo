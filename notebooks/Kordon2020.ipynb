{
 "cells": [
  {
   "cell_type": "markdown",
   "metadata": {},
   "source": [
    "# Reproducing Kordon 2020 Results"
   ]
  },
  {
   "cell_type": "markdown",
   "metadata": {},
   "source": [
    "## Generating the Data \n",
    "\n",
    "We rerun the experiments:\n",
    " - graph size from 5 to 100 step 5\n",
    " - for each graph size two type of graph low and high density\n",
    " - 150 run of each, we take the average.\n",
    " \n",
    "The following command generates these numbers in a few minutes. This is much faster than the timing reported in Kordon and Tang 2020, the reason must be we implemented the algorithm in C++ instead of Python.\n",
    "\n",
    "```bash\n",
    "SAMPLE_COUNT=150 ../build/tests/BenchmarkTest > benchmarks.log\n",
    "```"
   ]
  },
  {
   "cell_type": "markdown",
   "metadata": {},
   "source": [
    "## Parsing the data and building the DataFrame\n",
    "\n",
    "We open the CSV file using `pandas`, remove the header, and rename the columns."
   ]
  },
  {
   "cell_type": "code",
   "execution_count": null,
   "metadata": {},
   "outputs": [],
   "source": [
    "import numpy as np\n",
    "import pandas as pd\n",
    "import matplotlib.pyplot as plt\n",
    "\n",
    "df = pd.read_csv(\"benchmarks.log\", skiprows=2,sep=\"\\t\", \n",
    "                 names=[\"n\", \"ltime\", \"liter\", \"lsize\", \"htime\", \"hiter\", \"hsize\"])\n",
    "\n",
    "df.describe()"
   ]
  },
  {
   "cell_type": "markdown",
   "metadata": {},
   "source": [
    "## Reproduce Figures"
   ]
  },
  {
   "cell_type": "markdown",
   "metadata": {},
   "source": [
    "### Helpers"
   ]
  },
  {
   "cell_type": "code",
   "execution_count": null,
   "metadata": {},
   "outputs": [],
   "source": [
    "def plot_low_high (item, deg) :\n",
    "    x  = df[\"n\"]\n",
    "    y1 = df[\"l\" + item]\n",
    "    y2 = df[\"h\" + item]\n",
    "\n",
    "    xspace = np.linspace(x.min(),x.max())\n",
    "\n",
    "    _ = plt.plot(x,y1,marker='o', linewidth=0, markersize=1)\n",
    "    _ = plt.plot(x,y2,marker='o', linewidth=0, markersize=1)\n",
    "\n",
    "\n",
    "    fitcoef1 = np.polyfit(x,y1, deg = deg)\n",
    "    fitcoef2 = np.polyfit(x,y2, deg = deg)\n",
    "\n",
    "    plt.plot(xspace, np.poly1d(fitcoef1)(xspace))\n",
    "    plt.plot(xspace, np.poly1d(fitcoef2)(xspace))\n"
   ]
  },
  {
   "cell_type": "markdown",
   "metadata": {},
   "source": [
    "### Figure  10: Average running times w.r.t. the number of nodes"
   ]
  },
  {
   "cell_type": "code",
   "execution_count": null,
   "metadata": {},
   "outputs": [],
   "source": [
    "plot_low_high (\"time\", 2) "
   ]
  },
  {
   "cell_type": "markdown",
   "metadata": {},
   "source": [
    "### Figure  11: Average number of iteration w.r.t. the number of nodes"
   ]
  },
  {
   "cell_type": "code",
   "execution_count": null,
   "metadata": {},
   "outputs": [],
   "source": [
    "plot_low_high (\"iter\", 2) "
   ]
  },
  {
   "cell_type": "markdown",
   "metadata": {},
   "source": [
    "### Figure  12: Average ratio for the partial expanded graph w.r.t. the number of nodes"
   ]
  },
  {
   "cell_type": "code",
   "execution_count": null,
   "metadata": {},
   "outputs": [],
   "source": [
    "plot_low_high (\"size\", 1) "
   ]
  },
  {
   "cell_type": "code",
   "execution_count": null,
   "metadata": {},
   "outputs": [],
   "source": []
  }
 ],
 "metadata": {
  "kernelspec": {
   "display_name": "Python 3 (ipykernel)",
   "language": "python",
   "name": "python3"
  },
  "language_info": {
   "codemirror_mode": {
    "name": "ipython",
    "version": 3
   },
   "file_extension": ".py",
   "mimetype": "text/x-python",
   "name": "python",
   "nbconvert_exporter": "python",
   "pygments_lexer": "ipython3",
   "version": "3.10.4"
  },
  "toc": {
   "base_numbering": 1,
   "nav_menu": {},
   "number_sections": true,
   "sideBar": true,
   "skip_h1_title": false,
   "title_cell": "Table of Contents",
   "title_sidebar": "Contents",
   "toc_cell": false,
   "toc_position": {},
   "toc_section_display": true,
   "toc_window_display": false
  }
 },
 "nbformat": 4,
 "nbformat_minor": 4
}
