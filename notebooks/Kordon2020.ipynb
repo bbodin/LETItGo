{
 "cells": [
  {
   "cell_type": "markdown",
   "metadata": {},
   "source": [
    "# Reproducing Kordon 2020 Results"
   ]
  },
  {
   "cell_type": "markdown",
   "metadata": {},
   "source": [
    "## Generating the Data \n",
    "\n",
    "We rerun the experiments:\n",
    " - graph size from 5 to 100 step 5\n",
    " - for each graph size two type of graph low and high density\n",
    " - 150 run of each, we take the average.\n",
    " \n",
    "The following command generates these numbers in a few minutes. This is much faster than the timing reported in Kordon and Tang 2020, the reason must be we implemented the algorithm in C++ instead of Python.\n",
    "\n",
    "```bash\n",
    "SAMPLE_COUNT=150 ../build/tests/BenchmarkTest > benchmarks.log\n",
    "```"
   ]
  },
  {
   "cell_type": "markdown",
   "metadata": {},
   "source": [
    "## Parsing the data and building the DataFrame\n",
    "\n",
    "We open the CSV file using `pandas`, remove the header, and rename the columns."
   ]
  },
  {
   "cell_type": "code",
   "execution_count": 1,
   "metadata": {},
   "outputs": [
    {
     "data": {
      "text/html": [
       "<div>\n",
       "<style scoped>\n",
       "    .dataframe tbody tr th:only-of-type {\n",
       "        vertical-align: middle;\n",
       "    }\n",
       "\n",
       "    .dataframe tbody tr th {\n",
       "        vertical-align: top;\n",
       "    }\n",
       "\n",
       "    .dataframe thead th {\n",
       "        text-align: right;\n",
       "    }\n",
       "</style>\n",
       "<table border=\"1\" class=\"dataframe\">\n",
       "  <thead>\n",
       "    <tr style=\"text-align: right;\">\n",
       "      <th></th>\n",
       "      <th>n</th>\n",
       "      <th>ltime</th>\n",
       "      <th>liter</th>\n",
       "      <th>lsize</th>\n",
       "      <th>htime</th>\n",
       "      <th>hiter</th>\n",
       "      <th>hsize</th>\n",
       "    </tr>\n",
       "  </thead>\n",
       "  <tbody>\n",
       "    <tr>\n",
       "      <th>count</th>\n",
       "      <td>20.000000</td>\n",
       "      <td>20.000000</td>\n",
       "      <td>20.000000</td>\n",
       "      <td>20.000000</td>\n",
       "      <td>20.000000</td>\n",
       "      <td>20.000000</td>\n",
       "      <td>20.000000</td>\n",
       "    </tr>\n",
       "    <tr>\n",
       "      <th>mean</th>\n",
       "      <td>52.500000</td>\n",
       "      <td>106.180500</td>\n",
       "      <td>4.068000</td>\n",
       "      <td>0.578500</td>\n",
       "      <td>179.379000</td>\n",
       "      <td>3.917000</td>\n",
       "      <td>0.725000</td>\n",
       "    </tr>\n",
       "    <tr>\n",
       "      <th>std</th>\n",
       "      <td>29.580399</td>\n",
       "      <td>110.603026</td>\n",
       "      <td>1.042066</td>\n",
       "      <td>0.024554</td>\n",
       "      <td>187.323396</td>\n",
       "      <td>0.923518</td>\n",
       "      <td>0.037906</td>\n",
       "    </tr>\n",
       "    <tr>\n",
       "      <th>min</th>\n",
       "      <td>5.000000</td>\n",
       "      <td>0.020000</td>\n",
       "      <td>1.990000</td>\n",
       "      <td>0.520000</td>\n",
       "      <td>0.020000</td>\n",
       "      <td>1.990000</td>\n",
       "      <td>0.630000</td>\n",
       "    </tr>\n",
       "    <tr>\n",
       "      <th>25%</th>\n",
       "      <td>28.750000</td>\n",
       "      <td>14.937500</td>\n",
       "      <td>3.562500</td>\n",
       "      <td>0.570000</td>\n",
       "      <td>26.425000</td>\n",
       "      <td>3.415000</td>\n",
       "      <td>0.717500</td>\n",
       "    </tr>\n",
       "    <tr>\n",
       "      <th>50%</th>\n",
       "      <td>52.500000</td>\n",
       "      <td>66.195000</td>\n",
       "      <td>4.305000</td>\n",
       "      <td>0.585000</td>\n",
       "      <td>117.275000</td>\n",
       "      <td>4.230000</td>\n",
       "      <td>0.740000</td>\n",
       "    </tr>\n",
       "    <tr>\n",
       "      <th>75%</th>\n",
       "      <td>76.250000</td>\n",
       "      <td>166.882500</td>\n",
       "      <td>4.902500</td>\n",
       "      <td>0.592500</td>\n",
       "      <td>282.577500</td>\n",
       "      <td>4.525000</td>\n",
       "      <td>0.742500</td>\n",
       "    </tr>\n",
       "    <tr>\n",
       "      <th>max</th>\n",
       "      <td>100.000000</td>\n",
       "      <td>357.240000</td>\n",
       "      <td>5.310000</td>\n",
       "      <td>0.610000</td>\n",
       "      <td>559.350000</td>\n",
       "      <td>5.070000</td>\n",
       "      <td>0.760000</td>\n",
       "    </tr>\n",
       "  </tbody>\n",
       "</table>\n",
       "</div>"
      ],
      "text/plain": [
       "                n       ltime      liter      lsize       htime      hiter  \\\n",
       "count   20.000000   20.000000  20.000000  20.000000   20.000000  20.000000   \n",
       "mean    52.500000  106.180500   4.068000   0.578500  179.379000   3.917000   \n",
       "std     29.580399  110.603026   1.042066   0.024554  187.323396   0.923518   \n",
       "min      5.000000    0.020000   1.990000   0.520000    0.020000   1.990000   \n",
       "25%     28.750000   14.937500   3.562500   0.570000   26.425000   3.415000   \n",
       "50%     52.500000   66.195000   4.305000   0.585000  117.275000   4.230000   \n",
       "75%     76.250000  166.882500   4.902500   0.592500  282.577500   4.525000   \n",
       "max    100.000000  357.240000   5.310000   0.610000  559.350000   5.070000   \n",
       "\n",
       "           hsize  \n",
       "count  20.000000  \n",
       "mean    0.725000  \n",
       "std     0.037906  \n",
       "min     0.630000  \n",
       "25%     0.717500  \n",
       "50%     0.740000  \n",
       "75%     0.742500  \n",
       "max     0.760000  "
      ]
     },
     "execution_count": 1,
     "metadata": {},
     "output_type": "execute_result"
    }
   ],
   "source": [
    "import numpy as np\n",
    "import pandas as pd\n",
    "import matplotlib.pyplot as plt\n",
    "\n",
    "df = pd.read_csv(\"benchmarks.log\", skiprows=2,sep=\"\\t\", \n",
    "                 names=[\"n\", \"ltime\", \"liter\", \"lsize\", \"htime\", \"hiter\", \"hsize\"])\n",
    "\n",
    "df.describe()"
   ]
  },
  {
   "cell_type": "markdown",
   "metadata": {},
   "source": [
    "## Reproduce Figures"
   ]
  },
  {
   "cell_type": "markdown",
   "metadata": {},
   "source": [
    "### Helpers"
   ]
  },
  {
   "cell_type": "code",
   "execution_count": 2,
   "metadata": {},
   "outputs": [],
   "source": [
    "def plot_low_high (item, deg) :\n",
    "    x  = df[\"n\"]\n",
    "    y1 = df[\"l\" + item]\n",
    "    y2 = df[\"h\" + item]\n",
    "\n",
    "    xspace = np.linspace(x.min(),x.max())\n",
    "\n",
    "    _ = plt.plot(x,y1,marker='o', linewidth=0, markersize=1)\n",
    "    _ = plt.plot(x,y2,marker='o', linewidth=0, markersize=1)\n",
    "\n",
    "\n",
    "    fitcoef1 = np.polyfit(x,y1, deg = deg)\n",
    "    fitcoef2 = np.polyfit(x,y2, deg = deg)\n",
    "\n",
    "    plt.plot(xspace, np.poly1d(fitcoef1)(xspace))\n",
    "    plt.plot(xspace, np.poly1d(fitcoef2)(xspace))\n"
   ]
  },
  {
   "cell_type": "markdown",
   "metadata": {},
   "source": [
    "### Figure  10: Average running times w.r.t. the number of nodes"
   ]
  },
  {
   "cell_type": "code",
   "execution_count": 3,
   "metadata": {},
   "outputs": [
    {
     "data": {
      "image/png": "[encoded data removed]",
      "text/plain": [
       "<Figure size 432x288 with 1 Axes>"
      ]
     },
     "metadata": {
      "needs_background": "light"
     },
     "output_type": "display_data"
    }
   ],
   "source": [
    "plot_low_high (\"time\", 2) "
   ]
  },
  {
   "cell_type": "markdown",
   "metadata": {},
   "source": [
    "### Figure  11: Average number of iteration w.r.t. the number of nodes"
   ]
  },
  {
   "cell_type": "code",
   "execution_count": 4,
   "metadata": {},
   "outputs": [
    {
     "data": {
      "image/png": "[encoded data removed]",
      "text/plain": [
       "<Figure size 432x288 with 1 Axes>"
      ]
     },
     "metadata": {
      "needs_background": "light"
     },
     "output_type": "display_data"
    }
   ],
   "source": [
    "plot_low_high (\"iter\", 2) "
   ]
  },
  {
   "cell_type": "markdown",
   "metadata": {},
   "source": [
    "### Figure  12: Average ratio for the partial expanded graph w.r.t. the number of nodes"
   ]
  },
  {
   "cell_type": "code",
   "execution_count": 10,
   "metadata": {},
   "outputs": [
    {
     "data": {
      "image/png": "[encoded data removed]",
      "text/plain": [
       "<Figure size 432x288 with 1 Axes>"
      ]
     },
     "metadata": {
      "needs_background": "light"
     },
     "output_type": "display_data"
    }
   ],
   "source": [
    "plot_low_high (\"size\", 1) "
   ]
  },
  {
   "cell_type": "code",
   "execution_count": null,
   "metadata": {},
   "outputs": [],
   "source": []
  }
 ],
 "metadata": {
  "kernelspec": {
   "display_name": "Python 3 (ipykernel)",
   "language": "python",
   "name": "python3"
  },
  "language_info": {
   "codemirror_mode": {
    "name": "ipython",
    "version": 3
   },
   "file_extension": ".py",
   "mimetype": "text/x-python",
   "name": "python",
   "nbconvert_exporter": "python",
   "pygments_lexer": "ipython3",
   "version": "3.10.4"
  },
  "toc": {
   "base_numbering": 1,
   "nav_menu": {},
   "number_sections": true,
   "sideBar": true,
   "skip_h1_title": false,
   "title_cell": "Table of Contents",
   "title_sidebar": "Contents",
   "toc_cell": false,
   "toc_position": {},
   "toc_section_display": true,
   "toc_window_display": false
  }
 },
 "nbformat": 4,
 "nbformat_minor": 4
}
